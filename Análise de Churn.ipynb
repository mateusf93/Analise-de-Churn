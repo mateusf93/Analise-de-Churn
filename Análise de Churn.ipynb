{
 "cells": [
  {
   "cell_type": "code",
   "execution_count": 1,
   "metadata": {
    "application/vnd.databricks.v1+cell": {
     "cellMetadata": {},
     "inputWidgets": {},
     "nuid": "6482be4c-f067-47c9-b0ac-35c938b94601",
     "showTitle": false,
     "title": ""
    }
   },
   "outputs": [],
   "source": [
    "# File location and type\n",
    "file_location = \"./dados_clientes.csv\"\n",
    "file_type = \"csv\"\n"
   ]
  },
  {
   "cell_type": "code",
   "execution_count": 2,
   "metadata": {
    "application/vnd.databricks.v1+cell": {
     "cellMetadata": {},
     "inputWidgets": {},
     "nuid": "540be6b9-4726-4d5b-be7d-dc6919a5770b",
     "showTitle": false,
     "title": ""
    }
   },
   "outputs": [],
   "source": [
    "from pyspark.sql import SparkSession"
   ]
  },
  {
   "cell_type": "code",
   "execution_count": 3,
   "metadata": {
    "application/vnd.databricks.v1+cell": {
     "cellMetadata": {},
     "inputWidgets": {},
     "nuid": "fd4b5545-73b9-4be7-9d1c-375e311f665a",
     "showTitle": false,
     "title": ""
    }
   },
   "outputs": [],
   "source": [
    "spark = SparkSession.builder.master('local[*]').appName('Churn').getOrCreate()"
   ]
  },
  {
   "cell_type": "code",
   "execution_count": 4,
   "metadata": {
    "application/vnd.databricks.v1+cell": {
     "cellMetadata": {},
     "inputWidgets": {},
     "nuid": "6dce3549-92f1-4a85-82e0-4d792d0022d1",
     "showTitle": false,
     "title": ""
    }
   },
   "outputs": [],
   "source": [
    "dados = spark.read.csv(file_location, sep =',', header=True, inferSchema=True)"
   ]
  },
  {
   "cell_type": "code",
   "execution_count": 5,
   "metadata": {
    "application/vnd.databricks.v1+cell": {
     "cellMetadata": {},
     "inputWidgets": {},
     "nuid": "14ac685b-7c7c-4d40-86f4-80fe55f4d6d6",
     "showTitle": false,
     "title": ""
    }
   },
   "outputs": [
    {
     "name": "stdout",
     "output_type": "stream",
     "text": [
      "root\n",
      " |-- id: integer (nullable = true)\n",
      " |-- Churn: string (nullable = true)\n",
      " |-- Mais65anos: integer (nullable = true)\n",
      " |-- Conjuge: string (nullable = true)\n",
      " |-- Dependentes: string (nullable = true)\n",
      " |-- MesesDeContrato: integer (nullable = true)\n",
      " |-- TelefoneFixo: string (nullable = true)\n",
      " |-- MaisDeUmaLinhaTelefonica: string (nullable = true)\n",
      " |-- Internet: string (nullable = true)\n",
      " |-- SegurancaOnline: string (nullable = true)\n",
      " |-- BackupOnline: string (nullable = true)\n",
      " |-- SeguroDispositivo: string (nullable = true)\n",
      " |-- SuporteTecnico: string (nullable = true)\n",
      " |-- TVaCabo: string (nullable = true)\n",
      " |-- StreamingFilmes: string (nullable = true)\n",
      " |-- TipoContrato: string (nullable = true)\n",
      " |-- ContaCorreio: string (nullable = true)\n",
      " |-- MetodoPagamento: string (nullable = true)\n",
      " |-- MesesCobrados: double (nullable = true)\n",
      "\n"
     ]
    }
   ],
   "source": [
    "dados.printSchema()"
   ]
  },
  {
   "cell_type": "code",
   "execution_count": 6,
   "metadata": {
    "application/vnd.databricks.v1+cell": {
     "cellMetadata": {},
     "inputWidgets": {},
     "nuid": "fc0eb606-5a7b-4216-9cf7-4262d40d7c7a",
     "showTitle": false,
     "title": ""
    }
   },
   "outputs": [
    {
     "name": "stdout",
     "output_type": "stream",
     "text": [
      "+-----+-----+\n",
      "|Churn|count|\n",
      "+-----+-----+\n",
      "|  Sim| 5174|\n",
      "|  Nao| 5174|\n",
      "+-----+-----+\n",
      "\n"
     ]
    }
   ],
   "source": [
    "dados.groupBy('Churn').count().show()"
   ]
  },
  {
   "cell_type": "code",
   "execution_count": 7,
   "metadata": {
    "application/vnd.databricks.v1+cell": {
     "cellMetadata": {},
     "inputWidgets": {},
     "nuid": "1dd77707-5a32-41b6-a007-22048684ee90",
     "showTitle": false,
     "title": ""
    }
   },
   "outputs": [],
   "source": [
    "colunasBinarias = [\n",
    "    'Churn',\n",
    "    'Conjuge',\n",
    "    'Dependentes',\n",
    "    'TelefoneFixo',\n",
    "    'MaisDeUmaLinhaTelefonica',\n",
    "    'SegurancaOnline',\n",
    "   'SeguroDispositivo',\n",
    "    'SuporteTecnico',\n",
    "    'TVaCabo',\n",
    "    'BackupOnline',\n",
    "    'StreamingFilmes',\n",
    "    'ContaCorreio']"
   ]
  },
  {
   "cell_type": "code",
   "execution_count": 8,
   "metadata": {
    "application/vnd.databricks.v1+cell": {
     "cellMetadata": {},
     "inputWidgets": {},
     "nuid": "85da8335-de25-4854-a767-c91315e19a62",
     "showTitle": false,
     "title": ""
    }
   },
   "outputs": [],
   "source": [
    "from pyspark.sql import functions as f"
   ]
  },
  {
   "cell_type": "code",
   "execution_count": 9,
   "metadata": {
    "application/vnd.databricks.v1+cell": {
     "cellMetadata": {},
     "inputWidgets": {},
     "nuid": "adc5fd3a-5786-4a20-956e-92545f15317c",
     "showTitle": false,
     "title": ""
    }
   },
   "outputs": [],
   "source": [
    "todasColunas = [f.when(f.col(c)=='Sim', 1).otherwise(0).alias(c) for c in colunasBinarias]"
   ]
  },
  {
   "cell_type": "code",
   "execution_count": 10,
   "metadata": {
    "application/vnd.databricks.v1+cell": {
     "cellMetadata": {},
     "inputWidgets": {},
     "nuid": "d0868197-cbd7-4836-9b90-711a874b5f85",
     "showTitle": false,
     "title": ""
    }
   },
   "outputs": [
    {
     "data": {
      "text/plain": [
       "['id',\n",
       " 'Mais65anos',\n",
       " 'MesesDeContrato',\n",
       " 'Internet',\n",
       " 'TipoContrato',\n",
       " 'MetodoPagamento',\n",
       " 'MesesCobrados',\n",
       " Column<'CASE WHEN (Churn = Sim) THEN 1 ELSE 0 END AS Churn'>,\n",
       " Column<'CASE WHEN (Conjuge = Sim) THEN 1 ELSE 0 END AS Conjuge'>,\n",
       " Column<'CASE WHEN (Dependentes = Sim) THEN 1 ELSE 0 END AS Dependentes'>,\n",
       " Column<'CASE WHEN (TelefoneFixo = Sim) THEN 1 ELSE 0 END AS TelefoneFixo'>,\n",
       " Column<'CASE WHEN (MaisDeUmaLinhaTelefonica = Sim) THEN 1 ELSE 0 END AS MaisDeUmaLinhaTelefonica'>,\n",
       " Column<'CASE WHEN (SegurancaOnline = Sim) THEN 1 ELSE 0 END AS SegurancaOnline'>,\n",
       " Column<'CASE WHEN (SeguroDispositivo = Sim) THEN 1 ELSE 0 END AS SeguroDispositivo'>,\n",
       " Column<'CASE WHEN (SuporteTecnico = Sim) THEN 1 ELSE 0 END AS SuporteTecnico'>,\n",
       " Column<'CASE WHEN (TVaCabo = Sim) THEN 1 ELSE 0 END AS TVaCabo'>,\n",
       " Column<'CASE WHEN (BackupOnline = Sim) THEN 1 ELSE 0 END AS BackupOnline'>,\n",
       " Column<'CASE WHEN (StreamingFilmes = Sim) THEN 1 ELSE 0 END AS StreamingFilmes'>,\n",
       " Column<'CASE WHEN (ContaCorreio = Sim) THEN 1 ELSE 0 END AS ContaCorreio'>]"
      ]
     },
     "execution_count": 10,
     "metadata": {},
     "output_type": "execute_result"
    }
   ],
   "source": [
    "for coluna in reversed(dados.columns):\n",
    "    if coluna not in colunasBinarias:\n",
    "        todasColunas.insert(0, coluna)\n",
    "todasColunas"
   ]
  },
  {
   "cell_type": "code",
   "execution_count": 11,
   "metadata": {
    "application/vnd.databricks.v1+cell": {
     "cellMetadata": {},
     "inputWidgets": {},
     "nuid": "74e85bec-5458-49ce-9e43-b450a691d81b",
     "showTitle": false,
     "title": ""
    }
   },
   "outputs": [
    {
     "name": "stdout",
     "output_type": "stream",
     "text": [
      "+---+----------+---------------+-----------+------------+----------------+-------------+-----+-------+-----------+------------+------------------------+---------------+-----------------+--------------+-------+------------+---------------+------------+\n",
      "| id|Mais65anos|MesesDeContrato|   Internet|TipoContrato| MetodoPagamento|MesesCobrados|Churn|Conjuge|Dependentes|TelefoneFixo|MaisDeUmaLinhaTelefonica|SegurancaOnline|SeguroDispositivo|SuporteTecnico|TVaCabo|BackupOnline|StreamingFilmes|ContaCorreio|\n",
      "+---+----------+---------------+-----------+------------+----------------+-------------+-----+-------+-----------+------------+------------------------+---------------+-----------------+--------------+-------+------------+---------------+------------+\n",
      "|  0|         0|              1|        DSL| Mensalmente|BoletoEletronico|        29.85|    0|      1|          0|           0|                       0|              0|                0|             0|      0|           1|              0|           1|\n",
      "|  1|         0|             34|        DSL|       UmAno|          Boleto|        56.95|    0|      0|          0|           1|                       0|              1|                1|             0|      0|           0|              0|           0|\n",
      "|  2|         0|              2|        DSL| Mensalmente|          Boleto|        53.85|    1|      0|          0|           1|                       0|              1|                0|             0|      0|           1|              0|           1|\n",
      "|  3|         0|             45|        DSL|       UmAno|   DebitoEmConta|         42.3|    0|      0|          0|           0|                       0|              1|                1|             1|      0|           0|              0|           0|\n",
      "|  4|         0|              2|FibraOptica| Mensalmente|BoletoEletronico|         70.7|    1|      0|          0|           1|                       0|              0|                0|             0|      0|           0|              0|           1|\n",
      "|  5|         0|              8|FibraOptica| Mensalmente|BoletoEletronico|        99.65|    1|      0|          0|           1|                       1|              0|                1|             0|      1|           0|              1|           1|\n",
      "|  6|         0|             22|FibraOptica| Mensalmente|   CartaoCredito|         89.1|    0|      0|          1|           1|                       1|              0|                0|             0|      1|           1|              0|           1|\n",
      "|  7|         0|             10|        DSL| Mensalmente|          Boleto|        29.75|    0|      0|          0|           0|                       0|              1|                0|             0|      0|           0|              0|           0|\n",
      "|  8|         0|             28|FibraOptica| Mensalmente|BoletoEletronico|        104.8|    1|      1|          0|           1|                       1|              0|                1|             1|      1|           0|              1|           1|\n",
      "|  9|         0|             62|        DSL|       UmAno|   DebitoEmConta|        56.15|    0|      0|          1|           1|                       0|              1|                0|             0|      0|           1|              0|           0|\n",
      "| 10|         0|             13|        DSL| Mensalmente|          Boleto|        49.95|    0|      1|          1|           1|                       0|              1|                0|             0|      0|           0|              0|           1|\n",
      "| 11|         0|             16|        Nao|    DoisAnos|   CartaoCredito|        18.95|    0|      0|          0|           1|                       0|              0|                0|             0|      0|           0|              0|           0|\n",
      "| 12|         0|             58|FibraOptica|       UmAno|   CartaoCredito|       100.35|    0|      1|          0|           1|                       1|              0|                1|             0|      1|           0|              1|           0|\n",
      "| 13|         0|             49|FibraOptica| Mensalmente|   DebitoEmConta|        103.7|    1|      0|          0|           1|                       1|              0|                1|             0|      1|           1|              1|           1|\n",
      "| 14|         0|             25|FibraOptica| Mensalmente|BoletoEletronico|        105.5|    0|      0|          0|           1|                       0|              1|                1|             1|      1|           0|              1|           1|\n",
      "| 15|         0|             69|FibraOptica|    DoisAnos|   CartaoCredito|       113.25|    0|      1|          1|           1|                       1|              1|                1|             1|      1|           1|              1|           0|\n",
      "| 16|         0|             52|        Nao|       UmAno|          Boleto|        20.65|    0|      0|          0|           1|                       0|              0|                0|             0|      0|           0|              0|           0|\n",
      "| 17|         0|             71|FibraOptica|    DoisAnos|   DebitoEmConta|        106.7|    0|      0|          1|           1|                       1|              1|                1|             0|      1|           0|              1|           0|\n",
      "| 18|         0|             10|        DSL| Mensalmente|   CartaoCredito|         55.2|    1|      1|          1|           1|                       0|              0|                1|             1|      0|           0|              0|           0|\n",
      "| 19|         0|             21|FibraOptica| Mensalmente|BoletoEletronico|        90.05|    0|      0|          0|           1|                       0|              0|                1|             0|      0|           1|              1|           1|\n",
      "+---+----------+---------------+-----------+------------+----------------+-------------+-----+-------+-----------+------------+------------------------+---------------+-----------------+--------------+-------+------------+---------------+------------+\n",
      "only showing top 20 rows\n",
      "\n"
     ]
    }
   ],
   "source": [
    "dados.select(todasColunas).show()"
   ]
  },
  {
   "cell_type": "code",
   "execution_count": 12,
   "metadata": {
    "application/vnd.databricks.v1+cell": {
     "cellMetadata": {},
     "inputWidgets": {},
     "nuid": "2e055a47-a025-44ee-a6a0-25d4713e7645",
     "showTitle": false,
     "title": ""
    }
   },
   "outputs": [],
   "source": [
    "dataset = dados.select(todasColunas)"
   ]
  },
  {
   "cell_type": "code",
   "execution_count": 13,
   "metadata": {
    "application/vnd.databricks.v1+cell": {
     "cellMetadata": {},
     "inputWidgets": {},
     "nuid": "a69bf1c3-05ea-4b17-af6c-46afbfdf47c2",
     "showTitle": false,
     "title": ""
    }
   },
   "outputs": [
    {
     "name": "stdout",
     "output_type": "stream",
     "text": [
      "root\n",
      " |-- id: integer (nullable = true)\n",
      " |-- Mais65anos: integer (nullable = true)\n",
      " |-- MesesDeContrato: integer (nullable = true)\n",
      " |-- Internet: string (nullable = true)\n",
      " |-- TipoContrato: string (nullable = true)\n",
      " |-- MetodoPagamento: string (nullable = true)\n",
      " |-- MesesCobrados: double (nullable = true)\n",
      " |-- Churn: integer (nullable = false)\n",
      " |-- Conjuge: integer (nullable = false)\n",
      " |-- Dependentes: integer (nullable = false)\n",
      " |-- TelefoneFixo: integer (nullable = false)\n",
      " |-- MaisDeUmaLinhaTelefonica: integer (nullable = false)\n",
      " |-- SegurancaOnline: integer (nullable = false)\n",
      " |-- SeguroDispositivo: integer (nullable = false)\n",
      " |-- SuporteTecnico: integer (nullable = false)\n",
      " |-- TVaCabo: integer (nullable = false)\n",
      " |-- BackupOnline: integer (nullable = false)\n",
      " |-- StreamingFilmes: integer (nullable = false)\n",
      " |-- ContaCorreio: integer (nullable = false)\n",
      "\n"
     ]
    }
   ],
   "source": [
    "dataset.printSchema()"
   ]
  },
  {
   "cell_type": "code",
   "execution_count": 14,
   "metadata": {
    "application/vnd.databricks.v1+cell": {
     "cellMetadata": {},
     "inputWidgets": {},
     "nuid": "251c8ce4-ed61-4dec-b4b4-fc09855e7201",
     "showTitle": false,
     "title": ""
    }
   },
   "outputs": [
    {
     "name": "stdout",
     "output_type": "stream",
     "text": [
      "+-----------+------------+----------------+\n",
      "|   Internet|TipoContrato| MetodoPagamento|\n",
      "+-----------+------------+----------------+\n",
      "|        DSL| Mensalmente|BoletoEletronico|\n",
      "|        DSL|       UmAno|          Boleto|\n",
      "|        DSL| Mensalmente|          Boleto|\n",
      "|        DSL|       UmAno|   DebitoEmConta|\n",
      "|FibraOptica| Mensalmente|BoletoEletronico|\n",
      "|FibraOptica| Mensalmente|BoletoEletronico|\n",
      "|FibraOptica| Mensalmente|   CartaoCredito|\n",
      "|        DSL| Mensalmente|          Boleto|\n",
      "|FibraOptica| Mensalmente|BoletoEletronico|\n",
      "|        DSL|       UmAno|   DebitoEmConta|\n",
      "|        DSL| Mensalmente|          Boleto|\n",
      "|        Nao|    DoisAnos|   CartaoCredito|\n",
      "|FibraOptica|       UmAno|   CartaoCredito|\n",
      "|FibraOptica| Mensalmente|   DebitoEmConta|\n",
      "|FibraOptica| Mensalmente|BoletoEletronico|\n",
      "|FibraOptica|    DoisAnos|   CartaoCredito|\n",
      "|        Nao|       UmAno|          Boleto|\n",
      "|FibraOptica|    DoisAnos|   DebitoEmConta|\n",
      "|        DSL| Mensalmente|   CartaoCredito|\n",
      "|FibraOptica| Mensalmente|BoletoEletronico|\n",
      "+-----------+------------+----------------+\n",
      "only showing top 20 rows\n",
      "\n"
     ]
    }
   ],
   "source": [
    "dataset.select(['Internet', 'TipoContrato', 'MetodoPagamento']).show()"
   ]
  },
  {
   "cell_type": "code",
   "execution_count": 15,
   "metadata": {
    "application/vnd.databricks.v1+cell": {
     "cellMetadata": {},
     "inputWidgets": {},
     "nuid": "4a8cfb5c-dc60-4db0-8c1a-449481286335",
     "showTitle": false,
     "title": ""
    }
   },
   "outputs": [
    {
     "name": "stdout",
     "output_type": "stream",
     "text": [
      "+----+---+-----------+---+\n",
      "|  id|DSL|FibraOptica|Nao|\n",
      "+----+---+-----------+---+\n",
      "|7982|  1|          0|  0|\n",
      "|9465|  0|          1|  0|\n",
      "|2122|  1|          0|  0|\n",
      "|3997|  1|          0|  0|\n",
      "|6654|  0|          1|  0|\n",
      "|7880|  0|          1|  0|\n",
      "|4519|  0|          1|  0|\n",
      "|6466|  0|          1|  0|\n",
      "| 496|  1|          0|  0|\n",
      "|7833|  0|          1|  0|\n",
      "|1591|  0|          0|  1|\n",
      "|2866|  0|          1|  0|\n",
      "|8592|  0|          1|  0|\n",
      "|1829|  0|          1|  0|\n",
      "| 463|  0|          1|  0|\n",
      "|4900|  0|          1|  0|\n",
      "|4818|  0|          1|  0|\n",
      "|7554|  1|          0|  0|\n",
      "|1342|  0|          0|  1|\n",
      "|5300|  0|          1|  0|\n",
      "+----+---+-----------+---+\n",
      "only showing top 20 rows\n",
      "\n"
     ]
    }
   ],
   "source": [
    "dataset.groupBy('id').pivot('Internet').agg(f.lit(1)).na.fill(0).show()"
   ]
  },
  {
   "cell_type": "code",
   "execution_count": 16,
   "metadata": {
    "application/vnd.databricks.v1+cell": {
     "cellMetadata": {},
     "inputWidgets": {},
     "nuid": "8526698f-4d3e-4994-a939-ad3bdbc18122",
     "showTitle": false,
     "title": ""
    }
   },
   "outputs": [],
   "source": [
    "Internet = dataset.groupBy('id').pivot('Internet').agg(f.lit(1)).na.fill(0)\n",
    "TipoContrato = dataset.groupBy('id').pivot('TipoContrato').agg(f.lit(1)).na.fill(0)\n",
    "MetodoPagamento = dataset.groupBy('id').pivot('MetodoPagamento').agg(f.lit(1)).na.fill(0)"
   ]
  },
  {
   "cell_type": "code",
   "execution_count": 17,
   "metadata": {
    "application/vnd.databricks.v1+cell": {
     "cellMetadata": {},
     "inputWidgets": {},
     "nuid": "a429504b-dcf9-4448-9b19-04baf4cca92a",
     "showTitle": false,
     "title": ""
    }
   },
   "outputs": [],
   "source": [
    "dataset = dataset\\\n",
    "    .join(Internet, 'id', how='inner')\\\n",
    "    .join(TipoContrato, 'id', how = 'inner')\\\n",
    "    .join(MetodoPagamento, 'id', how = 'inner')\\\n",
    "    .select('*',\n",
    "           f.col('DSL').alias('Internet_DSL'),\\\n",
    "           f.col('FibraOptica').alias('Internet_FibraOptica'),\\\n",
    "           f.col('Nao').alias('Internet_Nao'),\\\n",
    "            f.col('Mensalmente').alias('TipoContrato_Mensalmente'),\\\n",
    "            f.col('UmAno').alias('TipoContrato_UmAno'),\\\n",
    "            f.col('DoisAnos').alias('tipoContrato_DoisAnos'),\\\n",
    "            f.col('DebitoEmConta').alias('MetodoPagamento_DebitoEmConta'),\\\n",
    "            f.col('CartaoCredito').alias('MetodoPagamento_CartaoCredito'),\\\n",
    "            f.col('BoletoEletronico').alias('MetodoPagamento_BoletoEletronico'),\\\n",
    "            f.col('Boleto').alias('MetodoPagamento_Boleto') \\\n",
    "           ).drop('Internet', 'TipoContrato', 'MetodoPagamento', 'DSL', 'FibraOptica', 'Nao', 'Mensalmente','UmAno', 'DoisAnos', 'DebitoEmConta', 'CartaoCredito', 'BoletoEletronico', 'Boleto')"
   ]
  },
  {
   "cell_type": "code",
   "execution_count": 18,
   "metadata": {
    "application/vnd.databricks.v1+cell": {
     "cellMetadata": {},
     "inputWidgets": {},
     "nuid": "af2e544f-8485-402e-8d79-e02f718ed1c8",
     "showTitle": false,
     "title": ""
    }
   },
   "outputs": [
    {
     "name": "stdout",
     "output_type": "stream",
     "text": [
      "root\n",
      " |-- id: integer (nullable = true)\n",
      " |-- Mais65anos: integer (nullable = true)\n",
      " |-- MesesDeContrato: integer (nullable = true)\n",
      " |-- MesesCobrados: double (nullable = true)\n",
      " |-- Churn: integer (nullable = false)\n",
      " |-- Conjuge: integer (nullable = false)\n",
      " |-- Dependentes: integer (nullable = false)\n",
      " |-- TelefoneFixo: integer (nullable = false)\n",
      " |-- MaisDeUmaLinhaTelefonica: integer (nullable = false)\n",
      " |-- SegurancaOnline: integer (nullable = false)\n",
      " |-- SeguroDispositivo: integer (nullable = false)\n",
      " |-- SuporteTecnico: integer (nullable = false)\n",
      " |-- TVaCabo: integer (nullable = false)\n",
      " |-- BackupOnline: integer (nullable = false)\n",
      " |-- StreamingFilmes: integer (nullable = false)\n",
      " |-- ContaCorreio: integer (nullable = false)\n",
      " |-- Internet_DSL: integer (nullable = true)\n",
      " |-- Internet_FibraOptica: integer (nullable = true)\n",
      " |-- Internet_Nao: integer (nullable = true)\n",
      " |-- TipoContrato_Mensalmente: integer (nullable = true)\n",
      " |-- TipoContrato_UmAno: integer (nullable = true)\n",
      " |-- tipoContrato_DoisAnos: integer (nullable = true)\n",
      " |-- MetodoPagamento_DebitoEmConta: integer (nullable = true)\n",
      " |-- MetodoPagamento_CartaoCredito: integer (nullable = true)\n",
      " |-- MetodoPagamento_BoletoEletronico: integer (nullable = true)\n",
      " |-- MetodoPagamento_Boleto: integer (nullable = true)\n",
      "\n"
     ]
    }
   ],
   "source": [
    "dataset.printSchema()"
   ]
  },
  {
   "cell_type": "code",
   "execution_count": 19,
   "metadata": {
    "application/vnd.databricks.v1+cell": {
     "cellMetadata": {},
     "inputWidgets": {},
     "nuid": "c66463c1-cff8-4904-9ce9-5008316dca12",
     "showTitle": false,
     "title": ""
    }
   },
   "outputs": [],
   "source": [
    "from pyspark.ml.feature import VectorAssembler"
   ]
  },
  {
   "cell_type": "code",
   "execution_count": 20,
   "metadata": {
    "application/vnd.databricks.v1+cell": {
     "cellMetadata": {},
     "inputWidgets": {},
     "nuid": "df04f0d1-ab8c-42b0-ab31-cb52b9f5a02f",
     "showTitle": false,
     "title": ""
    }
   },
   "outputs": [],
   "source": [
    "dataset = dataset.withColumnRenamed('Churn', 'label')"
   ]
  },
  {
   "cell_type": "code",
   "execution_count": 21,
   "metadata": {
    "application/vnd.databricks.v1+cell": {
     "cellMetadata": {},
     "inputWidgets": {},
     "nuid": "7633645b-52ba-4b2d-a847-a9a42d2d8b5f",
     "showTitle": false,
     "title": ""
    }
   },
   "outputs": [],
   "source": [
    "X = dataset.columns\n",
    "X.remove('label')\n",
    "X.remove('id')"
   ]
  },
  {
   "cell_type": "code",
   "execution_count": 22,
   "metadata": {
    "application/vnd.databricks.v1+cell": {
     "cellMetadata": {},
     "inputWidgets": {},
     "nuid": "720329a8-db51-49a2-bd95-09c522a37cf6",
     "showTitle": false,
     "title": ""
    }
   },
   "outputs": [],
   "source": [
    "assembler = VectorAssembler(inputCols =X, outputCol='features')"
   ]
  },
  {
   "cell_type": "code",
   "execution_count": 23,
   "metadata": {
    "application/vnd.databricks.v1+cell": {
     "cellMetadata": {},
     "inputWidgets": {},
     "nuid": "dd7257a7-c6ed-4d8b-88a6-87da6e266a54",
     "showTitle": false,
     "title": ""
    }
   },
   "outputs": [],
   "source": [
    "dataset_prep = assembler.transform(dataset).select('features', 'label')"
   ]
  },
  {
   "cell_type": "code",
   "execution_count": 24,
   "metadata": {
    "application/vnd.databricks.v1+cell": {
     "cellMetadata": {},
     "inputWidgets": {},
     "nuid": "64aa63cb-6fc2-4d5c-a7b0-d29635c99b39",
     "showTitle": false,
     "title": ""
    }
   },
   "outputs": [
    {
     "name": "stdout",
     "output_type": "stream",
     "text": [
      "+------------------------------------------------------------------------------------------------------------+-----+\n",
      "|features                                                                                                    |label|\n",
      "+------------------------------------------------------------------------------------------------------------+-----+\n",
      "|(24,[1,2,10,12,13,14,17,22],[1.0,45.30540797610398,1.0,1.0,1.0,1.0,1.0,1.0])                                |1    |\n",
      "|(24,[1,2,3,5,6,8,10,11,12,13,15,17,22],[60.0,103.6142230120257,1.0,1.0,1.0,1.0,1.0,1.0,1.0,1.0,1.0,1.0,1.0])|1    |\n",
      "|(24,[1,2,5,6,9,10,12,13,14,18,23],[12.0,75.85,1.0,1.0,1.0,1.0,1.0,1.0,1.0,1.0,1.0])                         |0    |\n",
      "|(24,[1,2,3,5,11,12,13,14,19,21],[69.0,61.45,1.0,1.0,1.0,1.0,1.0,1.0,1.0,1.0])                               |0    |\n",
      "|(24,[1,2,3,5,6,10,13,15,17,22],[7.0,86.5,1.0,1.0,1.0,1.0,1.0,1.0,1.0,1.0])                                  |1    |\n",
      "|(24,[1,2,5,6,12,13,15,17,22],[14.0,85.03742670311915,1.0,1.0,1.0,1.0,1.0,1.0,1.0])                          |1    |\n",
      "|(24,[1,2,3,5,6,8,9,10,11,12,13,15,18,20],[57.0,109.4,1.0,1.0,1.0,1.0,1.0,1.0,1.0,1.0,1.0,1.0,1.0,1.0])      |0    |\n",
      "|(24,[1,2,5,6,15,17,23],[18.0,74.15,1.0,1.0,1.0,1.0,1.0])                                                    |0    |\n",
      "|(24,[1,2,3,5,7,9,11,14,17,23],[28.0,60.9,1.0,1.0,1.0,1.0,1.0,1.0,1.0,1.0])                                  |0    |\n",
      "|(24,[1,2,3,5,12,13,15,17,22],[46.0,80.8824189403559,1.0,1.0,1.0,1.0,1.0,1.0,1.0])                           |1    |\n",
      "|(24,[1,2,5,16,17,21],[17.0,21.1,1.0,1.0,1.0,1.0])                                                           |0    |\n",
      "|(24,[1,2,5,11,12,13,15,17,22],[12.0,84.6,1.0,1.0,1.0,1.0,1.0,1.0,1.0])                                      |0    |\n",
      "|(24,[1,2,3,5,6,10,13,15,17,22],[5.0,82.71735660557214,1.0,1.0,1.0,1.0,1.0,1.0,1.0,1.0])                     |1    |\n",
      "|(24,[1,2,5,6,13,15,17,22],[8.0,74.85,1.0,1.0,1.0,1.0,1.0,1.0])                                              |0    |\n",
      "|(24,[1,2,5,6,10,11,12,13,15,17,22],[7.0,99.8,1.0,1.0,1.0,1.0,1.0,1.0,1.0,1.0,1.0])                          |1    |\n",
      "|(24,[0,1,2,3,5,6,10,13,15,17,22],[1.0,37.0,85.7,1.0,1.0,1.0,1.0,1.0,1.0,1.0,1.0])                           |1    |\n",
      "|(24,[0,1,2,3,5,7,8,15,18,21],[1.0,64.0,80.3,1.0,1.0,1.0,1.0,1.0,1.0,1.0])                                   |0    |\n",
      "|(24,[1,2,5,11,14,17,22],[1.0,50.74303124820026,1.0,1.0,1.0,1.0,1.0])                                        |1    |\n",
      "|(24,[1,2,5,16,19,23],[8.0,20.0,1.0,1.0,1.0,1.0])                                                            |0    |\n",
      "|(24,[1,2,3,4,5,10,13,15,17,23],[1.0,80.05,1.0,1.0,1.0,1.0,1.0,1.0,1.0,1.0])                                 |1    |\n",
      "+------------------------------------------------------------------------------------------------------------+-----+\n",
      "only showing top 20 rows\n",
      "\n"
     ]
    }
   ],
   "source": [
    "dataset_prep.show(truncate = False)"
   ]
  },
  {
   "cell_type": "code",
   "execution_count": 25,
   "metadata": {
    "application/vnd.databricks.v1+cell": {
     "cellMetadata": {},
     "inputWidgets": {},
     "nuid": "bbe2c290-0058-4dcd-adb6-deb3304c004f",
     "showTitle": false,
     "title": ""
    }
   },
   "outputs": [],
   "source": [
    "SEED = 101"
   ]
  },
  {
   "cell_type": "code",
   "execution_count": 26,
   "metadata": {
    "application/vnd.databricks.v1+cell": {
     "cellMetadata": {},
     "inputWidgets": {},
     "nuid": "884449a9-625c-49ad-bcea-20629893692f",
     "showTitle": false,
     "title": ""
    }
   },
   "outputs": [],
   "source": [
    "treino, teste = dataset_prep.randomSplit([0.7, 0.3], seed=SEED)"
   ]
  },
  {
   "cell_type": "code",
   "execution_count": 27,
   "metadata": {
    "application/vnd.databricks.v1+cell": {
     "cellMetadata": {},
     "inputWidgets": {},
     "nuid": "b798b4cd-408c-4186-a1ef-6d3e95415fd5",
     "showTitle": false,
     "title": ""
    }
   },
   "outputs": [],
   "source": [
    "from pyspark.ml.classification import LogisticRegression"
   ]
  },
  {
   "cell_type": "code",
   "execution_count": 28,
   "metadata": {
    "application/vnd.databricks.v1+cell": {
     "cellMetadata": {},
     "inputWidgets": {},
     "nuid": "0cda60e7-f368-4ac9-bf37-f74a3aa650cc",
     "showTitle": false,
     "title": ""
    }
   },
   "outputs": [],
   "source": [
    "lr = LogisticRegression()"
   ]
  },
  {
   "cell_type": "code",
   "execution_count": 29,
   "metadata": {
    "application/vnd.databricks.v1+cell": {
     "cellMetadata": {},
     "inputWidgets": {},
     "nuid": "28331eab-5437-47ea-ba66-12eb18307852",
     "showTitle": false,
     "title": ""
    }
   },
   "outputs": [],
   "source": [
    "modelo_lr = lr.fit(treino)"
   ]
  },
  {
   "cell_type": "code",
   "execution_count": 30,
   "metadata": {
    "application/vnd.databricks.v1+cell": {
     "cellMetadata": {},
     "inputWidgets": {},
     "nuid": "90a3cdac-a13b-409f-97c9-4e424666aba0",
     "showTitle": false,
     "title": ""
    }
   },
   "outputs": [],
   "source": [
    "previsoes_lr_teste = modelo_lr.transform(teste)"
   ]
  },
  {
   "cell_type": "code",
   "execution_count": 31,
   "metadata": {
    "application/vnd.databricks.v1+cell": {
     "cellMetadata": {},
     "inputWidgets": {},
     "nuid": "3a54f4a6-1ba9-48f2-becd-f819a849d40c",
     "showTitle": false,
     "title": ""
    }
   },
   "outputs": [
    {
     "name": "stdout",
     "output_type": "stream",
     "text": [
      "+--------------------+-----+--------------------+--------------------+----------+\n",
      "|            features|label|       rawPrediction|         probability|prediction|\n",
      "+--------------------+-----+--------------------+--------------------+----------+\n",
      "|(24,[0,1,2,3,4,5,...|    0|[1.04773882412687...|[0.74034045500868...|       0.0|\n",
      "|(24,[0,1,2,3,4,5,...|    0|[-0.1366605349276...|[0.46588793977598...|       1.0|\n",
      "|(24,[0,1,2,3,4,5,...|    0|[0.72287161986035...|[0.67323905362807...|       0.0|\n",
      "|(24,[0,1,2,3,4,5,...|    0|[0.86716499191714...|[0.70415544956888...|       0.0|\n",
      "|(24,[0,1,2,3,4,5,...|    0|[-0.3327366549522...|[0.41757490222070...|       1.0|\n",
      "|(24,[0,1,2,3,4,5,...|    1|[-0.0310089575015...|[0.49224838174889...|       1.0|\n",
      "|(24,[0,1,2,3,4,5,...|    0|[0.03971699525400...|[0.50992794378674...|       0.0|\n",
      "|(24,[0,1,2,3,4,5,...|    1|[0.17249223213928...|[0.54301645313354...|       0.0|\n",
      "|(24,[0,1,2,3,4,5,...|    0|[0.70154269745002...|[0.66852971926204...|       0.0|\n",
      "|(24,[0,1,2,3,4,5,...|    0|[0.74833118568539...|[0.67881496421257...|       0.0|\n",
      "|(24,[0,1,2,3,4,5,...|    1|[-0.5422581007513...|[0.36766244700538...|       1.0|\n",
      "|(24,[0,1,2,3,4,5,...|    1|[-0.9169466993565...|[0.28558043361915...|       1.0|\n",
      "|(24,[0,1,2,3,4,5,...|    0|[5.31828925986298...|[0.99512277281080...|       0.0|\n",
      "|(24,[0,1,2,3,4,8,...|    0|[0.86287546973017...|[0.70326107207609...|       0.0|\n",
      "|(24,[0,1,2,3,4,9,...|    0|[0.79193373117765...|[0.68824638927914...|       0.0|\n",
      "|(24,[0,1,2,3,4,10...|    0|[-0.0034988001065...|[0.49912530086566...|       1.0|\n",
      "|(24,[0,1,2,3,5,6,...|    0|[4.35730199750087...|[0.98734918345633...|       0.0|\n",
      "|(24,[0,1,2,3,5,6,...|    0|[1.54443086552110...|[0.82410791977690...|       0.0|\n",
      "|(24,[0,1,2,3,5,6,...|    0|[3.39304620041903...|[0.96748650367421...|       0.0|\n",
      "|(24,[0,1,2,3,5,6,...|    0|[3.27377654924896...|[0.96351815353759...|       0.0|\n",
      "+--------------------+-----+--------------------+--------------------+----------+\n",
      "only showing top 20 rows\n",
      "\n"
     ]
    }
   ],
   "source": [
    "previsoes_lr_teste.show()"
   ]
  },
  {
   "cell_type": "code",
   "execution_count": 32,
   "metadata": {
    "application/vnd.databricks.v1+cell": {
     "cellMetadata": {},
     "inputWidgets": {},
     "nuid": "18ff1114-db0e-4a92-9c5d-2fa1c4c69468",
     "showTitle": false,
     "title": ""
    }
   },
   "outputs": [],
   "source": [
    "resumo_lr_treino = modelo_lr.summary"
   ]
  },
  {
   "cell_type": "code",
   "execution_count": 33,
   "metadata": {
    "application/vnd.databricks.v1+cell": {
     "cellMetadata": {},
     "inputWidgets": {},
     "nuid": "3940413e-b013-4359-9f8d-99436230ae12",
     "showTitle": false,
     "title": ""
    }
   },
   "outputs": [
    {
     "name": "stdout",
     "output_type": "stream",
     "text": [
      "Acurácia: 0.781293\n",
      "Precisao: 0.763435\n",
      "Recall: 0.810403\n",
      "F1: 0.786218\n"
     ]
    }
   ],
   "source": [
    "print(\"Acurácia: %f\" % resumo_lr_treino.accuracy)\n",
    "print(\"Precisao: %f\" % resumo_lr_treino.precisionByLabel[1])\n",
    "print(\"Recall: %f\" % resumo_lr_treino.recallByLabel[1])\n",
    "print(\"F1: %f\" % resumo_lr_treino.fMeasureByLabel()[1])"
   ]
  },
  {
   "cell_type": "code",
   "execution_count": 34,
   "metadata": {
    "application/vnd.databricks.v1+cell": {
     "cellMetadata": {},
     "inputWidgets": {},
     "nuid": "f9443970-62b2-4a53-aedf-cbfc110db738",
     "showTitle": false,
     "title": ""
    }
   },
   "outputs": [],
   "source": [
    "def calcula_mostra_matriz_confusao(df_transform_modelo, normalize=False, percentagem = True):\n",
    "    tp =  previsoes_lr_teste.select('label', 'prediction').where((f.col('label') == 1) & (f.col('prediction') ==1)).count()\n",
    "    tn = previsoes_lr_teste.select('label', 'prediction').where((f.col('label') == 0) & (f.col('prediction') ==0)).count()\n",
    "    fp =  previsoes_lr_teste.select('label', 'prediction').where((f.col('label') == 0) & (f.col('prediction') ==1)).count()\n",
    "    fn = previsoes_lr_teste.select('label', 'prediction').where((f.col('label') == 1) & (f.col('prediction') ==0)).count()\n",
    "    \n",
    "    valorP = 1\n",
    "    valorN = 1\n",
    "    \n",
    "    if normalize:\n",
    "        valorP = tp + fn\n",
    "        valorN = fp + tn\n",
    "        \n",
    "    if percentagem and normalize:\n",
    "        valorP = valorP/100\n",
    "        valorN = valorN/100\n",
    "    print(' '*20, 'Previsto')\n",
    "    print(' '*15, 'Churn', ' '*5, 'Não Churn')\n",
    "    print(' '*4, 'Churn', ' '*6, int(tp/valorP), ' '*7, int(fn/valorP))\n",
    "    print('Real')\n",
    "    print(' '*4, 'Não-Churn', ' '*2, int(fp/valorN), ' '*7, int(tn/valorN))\n",
    "    print(' ')\n",
    "    print('Métricas:')\n",
    "    print('Acurácia: %f' % resumo_lr_treino.accuracy)\n",
    "    print('Precisão: %f' % resumo_lr_treino.precisionByLabel[1])\n",
    "    print('Recall: %f ' % resumo_lr_treino.recallByLabel[1])\n",
    "    print('F1:%f' % resumo_lr_treino.fMeasureByLabel()[1])\n"
   ]
  },
  {
   "cell_type": "code",
   "execution_count": 35,
   "metadata": {
    "application/vnd.databricks.v1+cell": {
     "cellMetadata": {},
     "inputWidgets": {},
     "nuid": "afc643b1-3be4-4b71-8ad8-6bca858b4ea1",
     "showTitle": false,
     "title": ""
    }
   },
   "outputs": [
    {
     "name": "stdout",
     "output_type": "stream",
     "text": [
      "                     Previsto\n",
      "                Churn       Não Churn\n",
      "     Churn        1269         329\n",
      "Real\n",
      "     Não-Churn    355         1189\n",
      " \n",
      "Métricas:\n",
      "Acurácia: 0.781293\n",
      "Precisão: 0.763435\n",
      "Recall: 0.810403 \n",
      "F1:0.786218\n"
     ]
    }
   ],
   "source": [
    "calcula_mostra_matriz_confusao (previsoes_lr_teste, normalize = False)"
   ]
  },
  {
   "cell_type": "code",
   "execution_count": 36,
   "metadata": {
    "application/vnd.databricks.v1+cell": {
     "cellMetadata": {},
     "inputWidgets": {},
     "nuid": "64e3b968-de93-41b0-8095-e332c1c58010",
     "showTitle": false,
     "title": ""
    }
   },
   "outputs": [],
   "source": [
    "from pyspark.ml.classification import DecisionTreeClassifier"
   ]
  },
  {
   "cell_type": "code",
   "execution_count": 37,
   "metadata": {
    "application/vnd.databricks.v1+cell": {
     "cellMetadata": {},
     "inputWidgets": {},
     "nuid": "d17b1aad-fb96-4e53-83a3-1dc4370b00ea",
     "showTitle": false,
     "title": ""
    }
   },
   "outputs": [],
   "source": [
    "dtc = DecisionTreeClassifier(seed=SEED)"
   ]
  },
  {
   "cell_type": "code",
   "execution_count": 38,
   "metadata": {
    "application/vnd.databricks.v1+cell": {
     "cellMetadata": {},
     "inputWidgets": {},
     "nuid": "ec6b4333-1baf-48ba-87de-7e4cc279d9c2",
     "showTitle": false,
     "title": ""
    }
   },
   "outputs": [],
   "source": [
    "modelo_dtc = dtc.fit(treino)"
   ]
  },
  {
   "cell_type": "code",
   "execution_count": 39,
   "metadata": {
    "application/vnd.databricks.v1+cell": {
     "cellMetadata": {},
     "inputWidgets": {},
     "nuid": "5824b5c9-fa4a-401e-bf74-ae695f59b92c",
     "showTitle": false,
     "title": ""
    }
   },
   "outputs": [],
   "source": [
    "previsoes_dtc_treino = modelo_dtc.transform(treino)"
   ]
  },
  {
   "cell_type": "code",
   "execution_count": 41,
   "metadata": {
    "application/vnd.databricks.v1+cell": {
     "cellMetadata": {},
     "inputWidgets": {},
     "nuid": "65490036-c954-41e9-b2bf-6ae2d82e60e4",
     "showTitle": false,
     "title": ""
    }
   },
   "outputs": [
    {
     "name": "stdout",
     "output_type": "stream",
     "text": [
      "+--------------------+-----+--------------+--------------------+----------+\n",
      "|            features|label| rawPrediction|         probability|prediction|\n",
      "+--------------------+-----+--------------+--------------------+----------+\n",
      "|(24,[0,1,2,3,4,5,...|    0|[2073.0,323.0]|[0.86519198664440...|       0.0|\n",
      "|(24,[0,1,2,3,4,5,...|    0|[2073.0,323.0]|[0.86519198664440...|       0.0|\n",
      "|(24,[0,1,2,3,4,5,...|    0|[2073.0,323.0]|[0.86519198664440...|       0.0|\n",
      "|(24,[0,1,2,3,4,5,...|    0|   [32.0,13.0]|[0.71111111111111...|       0.0|\n",
      "|(24,[0,1,2,3,4,5,...|    0|   [32.0,13.0]|[0.71111111111111...|       0.0|\n",
      "|(24,[0,1,2,3,4,5,...|    1|   [56.0,63.0]|[0.47058823529411...|       1.0|\n",
      "|(24,[0,1,2,3,4,5,...|    1| [224.0,211.0]|[0.51494252873563...|       0.0|\n",
      "|(24,[0,1,2,3,4,5,...|    0|[338.0,1807.0]|[0.15757575757575...|       1.0|\n",
      "|(24,[0,1,2,3,4,5,...|    0|[2073.0,323.0]|[0.86519198664440...|       0.0|\n",
      "|(24,[0,1,2,3,4,5,...|    0| [224.0,211.0]|[0.51494252873563...|       0.0|\n",
      "|(24,[0,1,2,3,4,5,...|    0| [224.0,211.0]|[0.51494252873563...|       0.0|\n",
      "|(24,[0,1,2,3,4,5,...|    1|[338.0,1807.0]|[0.15757575757575...|       1.0|\n",
      "|(24,[0,1,2,3,4,5,...|    0|  [54.0,165.0]|[0.24657534246575...|       1.0|\n",
      "|(24,[0,1,2,3,4,5,...|    0|[338.0,1807.0]|[0.15757575757575...|       1.0|\n",
      "|(24,[0,1,2,3,4,5,...|    0|[2073.0,323.0]|[0.86519198664440...|       0.0|\n",
      "|(24,[0,1,2,3,4,5,...|    0|[338.0,1807.0]|[0.15757575757575...|       1.0|\n",
      "|(24,[0,1,2,3,4,5,...|    0|[2073.0,323.0]|[0.86519198664440...|       0.0|\n",
      "|(24,[0,1,2,3,4,5,...|    0|  [54.0,165.0]|[0.24657534246575...|       1.0|\n",
      "|(24,[0,1,2,3,4,5,...|    0|[2073.0,323.0]|[0.86519198664440...|       0.0|\n",
      "|(24,[0,1,2,3,4,5,...|    0|[2073.0,323.0]|[0.86519198664440...|       0.0|\n",
      "+--------------------+-----+--------------+--------------------+----------+\n",
      "only showing top 20 rows\n",
      "\n"
     ]
    }
   ],
   "source": [
    "previsoes_dtc_treino.show()"
   ]
  },
  {
   "cell_type": "code",
   "execution_count": 42,
   "metadata": {
    "application/vnd.databricks.v1+cell": {
     "cellMetadata": {},
     "inputWidgets": {},
     "nuid": "aaf99ea6-8b4a-49c7-a864-5b898cf26f10",
     "showTitle": false,
     "title": ""
    }
   },
   "outputs": [],
   "source": [
    "from pyspark.ml.evaluation import MulticlassClassificationEvaluator"
   ]
  },
  {
   "cell_type": "code",
   "execution_count": 43,
   "metadata": {
    "application/vnd.databricks.v1+cell": {
     "cellMetadata": {},
     "inputWidgets": {},
     "nuid": "2acd76e3-5a89-494d-908e-5c9f6cea0284",
     "showTitle": false,
     "title": ""
    }
   },
   "outputs": [],
   "source": [
    "evaluator = MulticlassClassificationEvaluator()"
   ]
  },
  {
   "cell_type": "code",
   "execution_count": null,
   "metadata": {
    "application/vnd.databricks.v1+cell": {
     "cellMetadata": {},
     "inputWidgets": {},
     "nuid": "3cb46316-bc41-4499-a7b6-8522fd185483",
     "showTitle": false,
     "title": ""
    }
   },
   "outputs": [],
   "source": []
  },
  {
   "cell_type": "code",
   "execution_count": 44,
   "metadata": {
    "application/vnd.databricks.v1+cell": {
     "cellMetadata": {},
     "inputWidgets": {},
     "nuid": "da3ebd29-c88a-49d6-a443-b71581120cde",
     "showTitle": false,
     "title": ""
    }
   },
   "outputs": [
    {
     "name": "stdout",
     "output_type": "stream",
     "text": [
      "Métricas:\n",
      "Acurácia: 0.789481\n",
      "Precisão: 0.791726\n",
      "Recall: 0.781320 \n",
      "F1:0.786488\n"
     ]
    }
   ],
   "source": [
    "print('Métricas:')\n",
    "print('Acurácia: %f' % evaluator.evaluate(previsoes_dtc_treino,{evaluator.metricName: 'accuracy'} ))\n",
    "print('Precisão: %f' % evaluator.evaluate(previsoes_dtc_treino, {evaluator.metricName: \"precisionByLabel\", evaluator.metricLabel: 1}))\n",
    "print('Recall: %f ' % evaluator.evaluate(previsoes_dtc_treino,{evaluator.metricName: \"recallByLabel\", evaluator.metricLabel: 1}))\n",
    "print('F1:%f' % evaluator.evaluate(previsoes_dtc_treino,{evaluator.metricName: 'fMeasureByLabel', evaluator.metricLabel: 1}))\n"
   ]
  },
  {
   "cell_type": "code",
   "execution_count": 45,
   "metadata": {
    "application/vnd.databricks.v1+cell": {
     "cellMetadata": {},
     "inputWidgets": {},
     "nuid": "18ed4519-4e6a-4c8d-a0f1-c64a4c05ebea",
     "showTitle": false,
     "title": ""
    }
   },
   "outputs": [],
   "source": [
    "\n",
    "previsoes_dtc_teste = modelo_dtc.transform(teste)"
   ]
  },
  {
   "cell_type": "code",
   "execution_count": 46,
   "metadata": {
    "application/vnd.databricks.v1+cell": {
     "cellMetadata": {},
     "inputWidgets": {},
     "nuid": "d82fcbe5-8e9a-4503-a729-b3fba7f1ce28",
     "showTitle": false,
     "title": ""
    }
   },
   "outputs": [
    {
     "name": "stdout",
     "output_type": "stream",
     "text": [
      "+--------------------+-----+--------------+--------------------+----------+\n",
      "|            features|label| rawPrediction|         probability|prediction|\n",
      "+--------------------+-----+--------------+--------------------+----------+\n",
      "|(24,[0,1,2,3,4,5,...|    0|   [32.0,13.0]|[0.71111111111111...|       0.0|\n",
      "|(24,[0,1,2,3,4,5,...|    0|  [54.0,116.0]|[0.31764705882352...|       1.0|\n",
      "|(24,[0,1,2,3,4,5,...|    0|[338.0,1807.0]|[0.15757575757575...|       1.0|\n",
      "|(24,[0,1,2,3,4,5,...|    0| [224.0,211.0]|[0.51494252873563...|       0.0|\n",
      "|(24,[0,1,2,3,4,5,...|    0|   [62.0,26.0]|[0.70454545454545...|       0.0|\n",
      "|(24,[0,1,2,3,4,5,...|    1| [224.0,211.0]|[0.51494252873563...|       0.0|\n",
      "|(24,[0,1,2,3,4,5,...|    0| [224.0,211.0]|[0.51494252873563...|       0.0|\n",
      "|(24,[0,1,2,3,4,5,...|    1| [224.0,211.0]|[0.51494252873563...|       0.0|\n",
      "|(24,[0,1,2,3,4,5,...|    0|[2073.0,323.0]|[0.86519198664440...|       0.0|\n",
      "|(24,[0,1,2,3,4,5,...|    0|[338.0,1807.0]|[0.15757575757575...|       1.0|\n",
      "|(24,[0,1,2,3,4,5,...|    1|[338.0,1807.0]|[0.15757575757575...|       1.0|\n",
      "|(24,[0,1,2,3,4,5,...|    1|[338.0,1807.0]|[0.15757575757575...|       1.0|\n",
      "|(24,[0,1,2,3,4,5,...|    0|[2073.0,323.0]|[0.86519198664440...|       0.0|\n",
      "|(24,[0,1,2,3,4,8,...|    0| [472.0,199.0]|[0.70342771982116...|       0.0|\n",
      "|(24,[0,1,2,3,4,9,...|    0| [472.0,199.0]|[0.70342771982116...|       0.0|\n",
      "|(24,[0,1,2,3,4,10...|    0|[338.0,1807.0]|[0.15757575757575...|       1.0|\n",
      "|(24,[0,1,2,3,5,6,...|    0|[2073.0,323.0]|[0.86519198664440...|       0.0|\n",
      "|(24,[0,1,2,3,5,6,...|    0| [224.0,211.0]|[0.51494252873563...|       0.0|\n",
      "|(24,[0,1,2,3,5,6,...|    0|[2073.0,323.0]|[0.86519198664440...|       0.0|\n",
      "|(24,[0,1,2,3,5,6,...|    0|[2073.0,323.0]|[0.86519198664440...|       0.0|\n",
      "+--------------------+-----+--------------+--------------------+----------+\n",
      "only showing top 20 rows\n",
      "\n"
     ]
    }
   ],
   "source": [
    "previsoes_dtc_teste.show()"
   ]
  },
  {
   "cell_type": "code",
   "execution_count": 47,
   "metadata": {
    "application/vnd.databricks.v1+cell": {
     "cellMetadata": {},
     "inputWidgets": {},
     "nuid": "737bbca7-d6f5-43df-b1db-967b12fcc75a",
     "showTitle": false,
     "title": ""
    }
   },
   "outputs": [
    {
     "name": "stdout",
     "output_type": "stream",
     "text": [
      "Métricas:\n",
      "Acurácia: 0.784214\n",
      "Precisão: 0.797158\n",
      "Recall: 0.772215 \n",
      "F1:0.784488\n"
     ]
    }
   ],
   "source": [
    "print('Métricas:')\n",
    "print('Acurácia: %f' % evaluator.evaluate(previsoes_dtc_teste,{evaluator.metricName: 'accuracy'} ))\n",
    "print('Precisão: %f' % evaluator.evaluate(previsoes_dtc_teste, {evaluator.metricName: \"precisionByLabel\", evaluator.metricLabel: 1}))\n",
    "print('Recall: %f ' % evaluator.evaluate(previsoes_dtc_teste,{evaluator.metricName: \"recallByLabel\", evaluator.metricLabel: 1}))\n",
    "print('F1:%f' % evaluator.evaluate(previsoes_dtc_teste,{evaluator.metricName: 'fMeasureByLabel', evaluator.metricLabel: 1}))"
   ]
  },
  {
   "cell_type": "code",
   "execution_count": 48,
   "metadata": {
    "application/vnd.databricks.v1+cell": {
     "cellMetadata": {},
     "inputWidgets": {},
     "nuid": "3f20c027-0860-4e16-95e3-15b67b0d4c63",
     "showTitle": false,
     "title": ""
    }
   },
   "outputs": [],
   "source": [
    "from pyspark.ml.classification import RandomForestClassifier"
   ]
  },
  {
   "cell_type": "code",
   "execution_count": 49,
   "metadata": {
    "application/vnd.databricks.v1+cell": {
     "cellMetadata": {},
     "inputWidgets": {},
     "nuid": "6fb1f7d0-8aa8-4abd-b185-0e16078e418a",
     "showTitle": false,
     "title": ""
    }
   },
   "outputs": [],
   "source": [
    "rf = RandomForestClassifier(seed=SEED)"
   ]
  },
  {
   "cell_type": "code",
   "execution_count": 50,
   "metadata": {
    "application/vnd.databricks.v1+cell": {
     "cellMetadata": {},
     "inputWidgets": {},
     "nuid": "88ba6774-4ced-4d39-97e8-184f4037a5c2",
     "showTitle": false,
     "title": ""
    }
   },
   "outputs": [],
   "source": [
    "modelo_rf = rf.fit(treino)"
   ]
  },
  {
   "cell_type": "code",
   "execution_count": 51,
   "metadata": {
    "application/vnd.databricks.v1+cell": {
     "cellMetadata": {},
     "inputWidgets": {},
     "nuid": "84ecc9e1-2d08-41de-bb81-49124400589c",
     "showTitle": false,
     "title": ""
    }
   },
   "outputs": [],
   "source": [
    "previsoes_rf_treino = modelo_rf.transform(treino)"
   ]
  },
  {
   "cell_type": "code",
   "execution_count": 52,
   "metadata": {
    "application/vnd.databricks.v1+cell": {
     "cellMetadata": {},
     "inputWidgets": {},
     "nuid": "6f09879e-e2b0-462e-9b5f-424893527686",
     "showTitle": false,
     "title": ""
    }
   },
   "outputs": [
    {
     "name": "stdout",
     "output_type": "stream",
     "text": [
      "+--------------------+-----+--------------------+--------------------+----------+\n",
      "|            features|label|       rawPrediction|         probability|prediction|\n",
      "+--------------------+-----+--------------------+--------------------+----------+\n",
      "|(24,[0,1,2,3,4,5,...|    0|[15.8956480513630...|[0.79478240256815...|       0.0|\n",
      "|(24,[0,1,2,3,4,5,...|    0|[15.335712979194,...|[0.7667856489597,...|       0.0|\n",
      "|(24,[0,1,2,3,4,5,...|    0|[15.5470870566389...|[0.77735435283194...|       0.0|\n",
      "|(24,[0,1,2,3,4,5,...|    0|[8.07482664587826...|[0.40374133229391...|       1.0|\n",
      "|(24,[0,1,2,3,4,5,...|    0|[8.02162950825082...|[0.40108147541254...|       1.0|\n",
      "|(24,[0,1,2,3,4,5,...|    1|[6.35811497422193...|[0.31790574871109...|       1.0|\n",
      "|(24,[0,1,2,3,4,5,...|    1|[8.08895233212468...|[0.40444761660623...|       1.0|\n",
      "|(24,[0,1,2,3,4,5,...|    0|[4.62751004701780...|[0.23137550235089...|       1.0|\n",
      "|(24,[0,1,2,3,4,5,...|    0|[15.6588867761392...|[0.78294433880696...|       0.0|\n",
      "|(24,[0,1,2,3,4,5,...|    0|[7.29234812961423...|[0.36461740648071...|       1.0|\n",
      "|(24,[0,1,2,3,4,5,...|    0|[8.63261391913623...|[0.43163069595681...|       1.0|\n",
      "|(24,[0,1,2,3,4,5,...|    1|[6.06371482942920...|[0.30318574147146...|       1.0|\n",
      "|(24,[0,1,2,3,4,5,...|    0|[6.31619848293938...|[0.31580992414696...|       1.0|\n",
      "|(24,[0,1,2,3,4,5,...|    0|[4.68070718464523...|[0.23403535923226...|       1.0|\n",
      "|(24,[0,1,2,3,4,5,...|    0|[13.3810366502662...|[0.66905183251331...|       0.0|\n",
      "|(24,[0,1,2,3,4,5,...|    0|[4.02439578768204...|[0.20121978938410...|       1.0|\n",
      "|(24,[0,1,2,3,4,5,...|    0|[15.4463539325257...|[0.77231769662628...|       0.0|\n",
      "|(24,[0,1,2,3,4,5,...|    0|[6.31619848293938...|[0.31580992414696...|       1.0|\n",
      "|(24,[0,1,2,3,4,5,...|    0|[18.1896439437451...|[0.90948219718725...|       0.0|\n",
      "|(24,[0,1,2,3,4,5,...|    0|[15.3202734971390...|[0.76601367485695...|       0.0|\n",
      "+--------------------+-----+--------------------+--------------------+----------+\n",
      "only showing top 20 rows\n",
      "\n"
     ]
    }
   ],
   "source": [
    "previsoes_rf_treino.show()"
   ]
  },
  {
   "cell_type": "code",
   "execution_count": 53,
   "metadata": {
    "application/vnd.databricks.v1+cell": {
     "cellMetadata": {},
     "inputWidgets": {},
     "nuid": "dce61ad7-09dd-4a69-b22c-5ce0758c3b5c",
     "showTitle": false,
     "title": ""
    }
   },
   "outputs": [],
   "source": [
    "previsoes_rf_teste = modelo_rf.transform(teste)"
   ]
  },
  {
   "cell_type": "code",
   "execution_count": 54,
   "metadata": {
    "application/vnd.databricks.v1+cell": {
     "cellMetadata": {},
     "inputWidgets": {},
     "nuid": "4388d51b-cb0d-45ef-b62f-9f5ec3e7f18a",
     "showTitle": false,
     "title": ""
    }
   },
   "outputs": [
    {
     "name": "stdout",
     "output_type": "stream",
     "text": [
      "+--------------------+-----+--------------------+--------------------+----------+\n",
      "|            features|label|       rawPrediction|         probability|prediction|\n",
      "+--------------------+-----+--------------------+--------------------+----------+\n",
      "|(24,[0,1,2,3,4,5,...|    0|[8.07482664587826...|[0.40374133229391...|       1.0|\n",
      "|(24,[0,1,2,3,4,5,...|    0|[6.53094675169338...|[0.32654733758466...|       1.0|\n",
      "|(24,[0,1,2,3,4,5,...|    0|[6.06371482942920...|[0.30318574147146...|       1.0|\n",
      "|(24,[0,1,2,3,4,5,...|    0|[8.63261391913623...|[0.43163069595681...|       1.0|\n",
      "|(24,[0,1,2,3,4,5,...|    0|[6.35811497422193...|[0.31790574871109...|       1.0|\n",
      "|(24,[0,1,2,3,4,5,...|    1|[7.88045128168474...|[0.39402256408423...|       1.0|\n",
      "|(24,[0,1,2,3,4,5,...|    0|[9.34747000174199...|[0.46737350008709...|       1.0|\n",
      "|(24,[0,1,2,3,4,5,...|    1|[7.29234812961423...|[0.36461740648071...|       1.0|\n",
      "|(24,[0,1,2,3,4,5,...|    0|[15.0673239058128...|[0.75336619529064...|       0.0|\n",
      "|(24,[0,1,2,3,4,5,...|    0|[10.4340558960800...|[0.52170279480400...|       0.0|\n",
      "|(24,[0,1,2,3,4,5,...|    1|[5.39281653262618...|[0.26964082663130...|       1.0|\n",
      "|(24,[0,1,2,3,4,5,...|    1|[3.92355173623509...|[0.19617758681175...|       1.0|\n",
      "|(24,[0,1,2,3,4,5,...|    0|[18.1356529884638...|[0.90678264942319...|       0.0|\n",
      "|(24,[0,1,2,3,4,8,...|    0|[9.99388092330978...|[0.49969404616548...|       1.0|\n",
      "|(24,[0,1,2,3,4,9,...|    0|[11.4508550896408...|[0.57254275448204...|       0.0|\n",
      "|(24,[0,1,2,3,4,10...|    0|[7.89668412245843...|[0.39483420612292...|       1.0|\n",
      "|(24,[0,1,2,3,5,6,...|    0|[18.0354197781297...|[0.90177098890648...|       0.0|\n",
      "|(24,[0,1,2,3,5,6,...|    0|[12.0513086450650...|[0.60256543225325...|       0.0|\n",
      "|(24,[0,1,2,3,5,6,...|    0|[17.5591751155941...|[0.87795875577970...|       0.0|\n",
      "|(24,[0,1,2,3,5,6,...|    0|[17.5591751155941...|[0.87795875577970...|       0.0|\n",
      "+--------------------+-----+--------------------+--------------------+----------+\n",
      "only showing top 20 rows\n",
      "\n"
     ]
    }
   ],
   "source": [
    "previsoes_rf_teste.show()"
   ]
  },
  {
   "cell_type": "code",
   "execution_count": 55,
   "metadata": {
    "application/vnd.databricks.v1+cell": {
     "cellMetadata": {},
     "inputWidgets": {},
     "nuid": "1962d53b-a261-437d-8d3f-7951e2d44957",
     "showTitle": false,
     "title": ""
    }
   },
   "outputs": [
    {
     "name": "stdout",
     "output_type": "stream",
     "text": [
      "Métricas:\n",
      "Acurácia: 0.775939\n",
      "Precisão: 0.766389\n",
      "Recall: 0.804756 \n",
      "F1:0.785104\n"
     ]
    }
   ],
   "source": [
    "print('Métricas:')\n",
    "print('Acurácia: %f' % evaluator.evaluate(previsoes_rf_teste,{evaluator.metricName: 'accuracy'} ))\n",
    "print('Precisão: %f' % evaluator.evaluate(previsoes_rf_teste, {evaluator.metricName: \"precisionByLabel\", evaluator.metricLabel: 1}))\n",
    "print('Recall: %f ' % evaluator.evaluate(previsoes_rf_teste,{evaluator.metricName: \"recallByLabel\", evaluator.metricLabel: 1}))\n",
    "print('F1:%f' % evaluator.evaluate(previsoes_rf_teste,{evaluator.metricName: 'fMeasureByLabel', evaluator.metricLabel: 1}))"
   ]
  },
  {
   "cell_type": "code",
   "execution_count": 56,
   "metadata": {
    "application/vnd.databricks.v1+cell": {
     "cellMetadata": {},
     "inputWidgets": {},
     "nuid": "a402adbf-74c3-4aa4-9a00-e53dbf551a9d",
     "showTitle": false,
     "title": ""
    }
   },
   "outputs": [
    {
     "name": "stdout",
     "output_type": "stream",
     "text": [
      "Métricas:\n",
      "Acurácia: 0.780183\n",
      "Precisão: 0.754862\n",
      "Recall: 0.824944 \n",
      "F1:0.788348\n"
     ]
    }
   ],
   "source": [
    "print('Métricas:')\n",
    "print('Acurácia: %f' % evaluator.evaluate(previsoes_rf_treino,{evaluator.metricName: 'accuracy'} ))\n",
    "print('Precisão: %f' % evaluator.evaluate(previsoes_rf_treino, {evaluator.metricName: \"precisionByLabel\", evaluator.metricLabel: 1}))\n",
    "print('Recall: %f ' % evaluator.evaluate(previsoes_rf_treino,{evaluator.metricName: \"recallByLabel\", evaluator.metricLabel: 1}))\n",
    "print('F1:%f' % evaluator.evaluate(previsoes_rf_treino,{evaluator.metricName: 'fMeasureByLabel', evaluator.metricLabel: 1}))"
   ]
  },
  {
   "cell_type": "code",
   "execution_count": 57,
   "metadata": {
    "application/vnd.databricks.v1+cell": {
     "cellMetadata": {},
     "inputWidgets": {},
     "nuid": "1674ba90-d7c0-4772-b11b-d687f404b12e",
     "showTitle": false,
     "title": ""
    }
   },
   "outputs": [],
   "source": [
    "from pyspark.ml.tuning import CrossValidator, ParamGridBuilder"
   ]
  },
  {
   "cell_type": "code",
   "execution_count": 58,
   "metadata": {
    "application/vnd.databricks.v1+cell": {
     "cellMetadata": {},
     "inputWidgets": {},
     "nuid": "f555099b-9afd-424d-a54e-7da373a1af2f",
     "showTitle": false,
     "title": ""
    }
   },
   "outputs": [],
   "source": [
    "dtc = DecisionTreeClassifier(seed= SEED)"
   ]
  },
  {
   "cell_type": "code",
   "execution_count": 59,
   "metadata": {
    "application/vnd.databricks.v1+cell": {
     "cellMetadata": {},
     "inputWidgets": {},
     "nuid": "de413f37-3bac-4f1c-88e0-abf35d6d000b",
     "showTitle": false,
     "title": ""
    }
   },
   "outputs": [],
   "source": [
    "grid = ParamGridBuilder()\\\n",
    "        .addGrid(dtc.maxDepth, [2,5,10])\\\n",
    "        .addGrid(dtc.maxBins, [10,32,45])\\\n",
    "        .build()"
   ]
  },
  {
   "cell_type": "code",
   "execution_count": 60,
   "metadata": {
    "application/vnd.databricks.v1+cell": {
     "cellMetadata": {},
     "inputWidgets": {},
     "nuid": "1acef064-8f1b-43ed-a741-2f460cd829c4",
     "showTitle": false,
     "title": ""
    }
   },
   "outputs": [],
   "source": [
    "evaluator = MulticlassClassificationEvaluator()"
   ]
  },
  {
   "cell_type": "code",
   "execution_count": 61,
   "metadata": {
    "application/vnd.databricks.v1+cell": {
     "cellMetadata": {},
     "inputWidgets": {},
     "nuid": "3eaf8668-94a9-4612-af50-8282d73849c4",
     "showTitle": false,
     "title": ""
    }
   },
   "outputs": [],
   "source": [
    "dtc_cv = CrossValidator(\n",
    "    estimator=dtc,\n",
    "    estimatorParamMaps=grid,\n",
    "    evaluator=evaluator,\n",
    "    numFolds = 3,\n",
    "    seed=SEED\n",
    ")"
   ]
  },
  {
   "cell_type": "code",
   "execution_count": 62,
   "metadata": {
    "application/vnd.databricks.v1+cell": {
     "cellMetadata": {},
     "inputWidgets": {},
     "nuid": "2e024c6c-77cf-4c52-aa7a-3105e3ef2bee",
     "showTitle": false,
     "title": ""
    }
   },
   "outputs": [],
   "source": [
    "modelo_dtc_cv = dtc_cv.fit(treino)"
   ]
  },
  {
   "cell_type": "code",
   "execution_count": 63,
   "metadata": {
    "application/vnd.databricks.v1+cell": {
     "cellMetadata": {},
     "inputWidgets": {},
     "nuid": "6142e6ef-71b2-481b-835d-9555c15eef4d",
     "showTitle": false,
     "title": ""
    }
   },
   "outputs": [],
   "source": [
    "previsoes_dtc_cv_teste = modelo_dtc_cv.transform(teste)"
   ]
  },
  {
   "cell_type": "code",
   "execution_count": 64,
   "metadata": {
    "application/vnd.databricks.v1+cell": {
     "cellMetadata": {},
     "inputWidgets": {},
     "nuid": "03538a33-4764-4d21-b468-189674546624",
     "showTitle": false,
     "title": ""
    }
   },
   "outputs": [
    {
     "name": "stdout",
     "output_type": "stream",
     "text": [
      "Métricas:\n",
      "Acurácia: 0.804583\n",
      "Precisão: 0.792162\n",
      "Recall: 0.834793 \n",
      "F1:0.812919\n"
     ]
    }
   ],
   "source": [
    "print('Métricas:')\n",
    "print('Acurácia: %f' % evaluator.evaluate(previsoes_dtc_cv_teste,{evaluator.metricName: 'accuracy'} ))\n",
    "print('Precisão: %f' % evaluator.evaluate(previsoes_dtc_cv_teste, {evaluator.metricName: \"precisionByLabel\", evaluator.metricLabel: 1}))\n",
    "print('Recall: %f ' % evaluator.evaluate(previsoes_dtc_cv_teste,{evaluator.metricName: \"recallByLabel\", evaluator.metricLabel: 1}))\n",
    "print('F1:%f' % evaluator.evaluate(previsoes_dtc_cv_teste,{evaluator.metricName: 'fMeasureByLabel', evaluator.metricLabel: 1}))"
   ]
  },
  {
   "cell_type": "code",
   "execution_count": 65,
   "metadata": {
    "application/vnd.databricks.v1+cell": {
     "cellMetadata": {},
     "inputWidgets": {},
     "nuid": "2dc63c5b-175f-4acb-b609-aa435c8f25cb",
     "showTitle": false,
     "title": ""
    }
   },
   "outputs": [],
   "source": [
    "rfc = RandomForestClassifier()"
   ]
  },
  {
   "cell_type": "code",
   "execution_count": 66,
   "metadata": {
    "application/vnd.databricks.v1+cell": {
     "cellMetadata": {},
     "inputWidgets": {},
     "nuid": "3f836128-0503-49f8-b339-dbf27daf901f",
     "showTitle": false,
     "title": ""
    }
   },
   "outputs": [],
   "source": [
    "grid = ParamGridBuilder()\\\n",
    "        .addGrid(rfc.maxDepth, [2,5,10])\\\n",
    "        .addGrid(rfc.maxBins, [10,32,45])\\\n",
    "        .addGrid(rfc.numTrees, [10,20,30])\\\n",
    "        .build()"
   ]
  },
  {
   "cell_type": "code",
   "execution_count": 67,
   "metadata": {
    "application/vnd.databricks.v1+cell": {
     "cellMetadata": {},
     "inputWidgets": {},
     "nuid": "a51b5a6b-687c-4bef-b10f-49dfe4c35b58",
     "showTitle": false,
     "title": ""
    }
   },
   "outputs": [],
   "source": [
    "rfc_cv = CrossValidator(\n",
    "    estimator=rfc,\n",
    "    estimatorParamMaps=grid,\n",
    "    evaluator=evaluator,\n",
    "    numFolds=3\n",
    ")"
   ]
  },
  {
   "cell_type": "code",
   "execution_count": 68,
   "metadata": {
    "application/vnd.databricks.v1+cell": {
     "cellMetadata": {},
     "inputWidgets": {},
     "nuid": "350e1dd9-0c71-4b75-aeca-605a1a63cdb6",
     "showTitle": false,
     "title": ""
    }
   },
   "outputs": [],
   "source": [
    "modelo_rfc_cv = rfc_cv.fit(treino)"
   ]
  },
  {
   "cell_type": "code",
   "execution_count": 69,
   "metadata": {
    "application/vnd.databricks.v1+cell": {
     "cellMetadata": {},
     "inputWidgets": {},
     "nuid": "1c368901-bc06-4411-891e-a6e17d330a8c",
     "showTitle": false,
     "title": ""
    }
   },
   "outputs": [],
   "source": [
    "previsoes_rfc_cv_teste = modelo_rfc_cv.transform(teste)"
   ]
  },
  {
   "cell_type": "code",
   "execution_count": 70,
   "metadata": {
    "application/vnd.databricks.v1+cell": {
     "cellMetadata": {},
     "inputWidgets": {},
     "nuid": "d927ace8-0de7-42de-b93e-67fab032b1f1",
     "showTitle": false,
     "title": ""
    }
   },
   "outputs": [
    {
     "name": "stdout",
     "output_type": "stream",
     "text": [
      "Métricas:\n",
      "Acurácia: 0.822088\n",
      "Precisão: 0.805409\n",
      "Recall: 0.857322 \n",
      "F1:0.830555\n"
     ]
    }
   ],
   "source": [
    "print('Métricas:')\n",
    "print('Acurácia: %f' % evaluator.evaluate(previsoes_rfc_cv_teste,{evaluator.metricName: 'accuracy'} ))\n",
    "print('Precisão: %f' % evaluator.evaluate(previsoes_rfc_cv_teste, {evaluator.metricName: \"precisionByLabel\", evaluator.metricLabel: 1}))\n",
    "print('Recall: %f ' % evaluator.evaluate(previsoes_rfc_cv_teste,{evaluator.metricName: \"recallByLabel\", evaluator.metricLabel: 1}))\n",
    "print('F1:%f' % evaluator.evaluate(previsoes_rfc_cv_teste,{evaluator.metricName: 'fMeasureByLabel', evaluator.metricLabel: 1}))"
   ]
  },
  {
   "cell_type": "code",
   "execution_count": 71,
   "metadata": {
    "application/vnd.databricks.v1+cell": {
     "cellMetadata": {},
     "inputWidgets": {},
     "nuid": "c20d7a67-836a-4e94-96b8-337ce044e7d9",
     "showTitle": false,
     "title": ""
    }
   },
   "outputs": [],
   "source": [
    "melhor_modelo_rfc = modelo_rfc_cv.bestModel"
   ]
  },
  {
   "cell_type": "code",
   "execution_count": 72,
   "metadata": {
    "application/vnd.databricks.v1+cell": {
     "cellMetadata": {},
     "inputWidgets": {},
     "nuid": "9594d430-8e90-447a-959f-c60f638014a3",
     "showTitle": false,
     "title": ""
    }
   },
   "outputs": [
    {
     "name": "stdout",
     "output_type": "stream",
     "text": [
      "10\n",
      "45\n",
      "30\n"
     ]
    }
   ],
   "source": [
    "print(melhor_modelo_rfc.getMaxDepth())\n",
    "print(melhor_modelo_rfc.getMaxBins())\n",
    "print(melhor_modelo_rfc.getNumTrees)"
   ]
  },
  {
   "cell_type": "code",
   "execution_count": 73,
   "metadata": {
    "application/vnd.databricks.v1+cell": {
     "cellMetadata": {},
     "inputWidgets": {},
     "nuid": "42b2f66d-c1ce-40a5-be8a-12218b41dd57",
     "showTitle": false,
     "title": ""
    }
   },
   "outputs": [],
   "source": [
    "rfc_tuning = RandomForestClassifier(maxDepth=10, maxBins=45, numTrees = 30,seed=SEED)"
   ]
  },
  {
   "cell_type": "code",
   "execution_count": 74,
   "metadata": {
    "application/vnd.databricks.v1+cell": {
     "cellMetadata": {},
     "inputWidgets": {},
     "nuid": "e0afb3f3-b983-410c-949a-171521297490",
     "showTitle": false,
     "title": ""
    }
   },
   "outputs": [],
   "source": [
    "modelo_rfc_tuning = rfc_tuning.fit(dataset_prep)"
   ]
  },
  {
   "cell_type": "code",
   "execution_count": 75,
   "metadata": {
    "application/vnd.databricks.v1+cell": {
     "cellMetadata": {},
     "inputWidgets": {},
     "nuid": "5d896a19-2e4f-435d-b416-c41beee42be4",
     "showTitle": false,
     "title": ""
    }
   },
   "outputs": [],
   "source": [
    "novo_cliente = [{'Mais65anos':0,\n",
    " 'MesesDeContrato':1,\n",
    " 'MesesCobrados':45.30540797610398,\n",
    " 'Conjuge':0,\n",
    " 'Dependentes':0,\n",
    " 'TelefoneFixo':0,\n",
    " 'MaisDeUmaLinhaTelefonica':0,\n",
    " 'SegurancaOnline':0,\n",
    " 'SeguroDispositivo':0,\n",
    " 'SuporteTecnico':0,\n",
    " 'TVaCabo':1,\n",
    " 'BackupOnline':0,\n",
    " 'StreamingFilmes':1,\n",
    " 'ContaCorreio':1,\n",
    " 'Internet_DSL':1,\n",
    " 'Internet_FibraOptica':0,\n",
    " 'Internet_Nao':0,\n",
    " 'TipoContrato_Mensalmente':1,\n",
    " 'TipoContrato_UmAno':0,\n",
    " 'tipoContrato_DoisAnos':0,\n",
    " 'MetodoPagamento_DebitoEmConta':0,\n",
    " 'MetodoPagamento_CartaoCredito':0,\n",
    " 'MetodoPagamento_BoletoEletronico':0,\n",
    " 'MetodoPagamento_Boleto':1}]"
   ]
  },
  {
   "cell_type": "code",
   "execution_count": 76,
   "metadata": {
    "application/vnd.databricks.v1+cell": {
     "cellMetadata": {},
     "inputWidgets": {},
     "nuid": "40568a06-6744-4c32-81a9-2c98ef12e8eb",
     "showTitle": false,
     "title": ""
    }
   },
   "outputs": [
    {
     "name": "stdout",
     "output_type": "stream",
     "text": [
      "+------------+-------+------------+-----------+------------+--------------------+------------+----------+------------------------+-----------------+---------------+----------------------+--------------------------------+-----------------------------+-----------------------------+---------------+-----------------+---------------+--------------+-------+------------+------------------------+------------------+---------------------+\n",
      "|BackupOnline|Conjuge|ContaCorreio|Dependentes|Internet_DSL|Internet_FibraOptica|Internet_Nao|Mais65anos|MaisDeUmaLinhaTelefonica|    MesesCobrados|MesesDeContrato|MetodoPagamento_Boleto|MetodoPagamento_BoletoEletronico|MetodoPagamento_CartaoCredito|MetodoPagamento_DebitoEmConta|SegurancaOnline|SeguroDispositivo|StreamingFilmes|SuporteTecnico|TVaCabo|TelefoneFixo|TipoContrato_Mensalmente|TipoContrato_UmAno|tipoContrato_DoisAnos|\n",
      "+------------+-------+------------+-----------+------------+--------------------+------------+----------+------------------------+-----------------+---------------+----------------------+--------------------------------+-----------------------------+-----------------------------+---------------+-----------------+---------------+--------------+-------+------------+------------------------+------------------+---------------------+\n",
      "|           0|      0|           1|          0|           1|                   0|           0|         0|                       0|45.30540797610398|              1|                     1|                               0|                            0|                            0|              0|                0|              1|             0|      1|           0|                       1|                 0|                    0|\n",
      "+------------+-------+------------+-----------+------------+--------------------+------------+----------+------------------------+-----------------+---------------+----------------------+--------------------------------+-----------------------------+-----------------------------+---------------+-----------------+---------------+--------------+-------+------------+------------------------+------------------+---------------------+\n",
      "\n"
     ]
    }
   ],
   "source": [
    "novo_cliente = spark.createDataFrame(novo_cliente)\n",
    "novo_cliente.show()"
   ]
  },
  {
   "cell_type": "code",
   "execution_count": 77,
   "metadata": {
    "application/vnd.databricks.v1+cell": {
     "cellMetadata": {},
     "inputWidgets": {},
     "nuid": "9e02b1c3-147c-4a52-817d-d9ab2ffedc64",
     "showTitle": false,
     "title": ""
    }
   },
   "outputs": [],
   "source": [
    "assembler = VectorAssembler(inputCols= X, outputCol = 'features')"
   ]
  },
  {
   "cell_type": "code",
   "execution_count": 78,
   "metadata": {
    "application/vnd.databricks.v1+cell": {
     "cellMetadata": {},
     "inputWidgets": {},
     "nuid": "b3ea6cfc-05aa-4699-a78d-3415e3ffaddd",
     "showTitle": false,
     "title": ""
    }
   },
   "outputs": [],
   "source": [
    "novo_cliente_prep = assembler.transform(novo_cliente).select('features')"
   ]
  },
  {
   "cell_type": "code",
   "execution_count": 79,
   "metadata": {
    "application/vnd.databricks.v1+cell": {
     "cellMetadata": {},
     "inputWidgets": {},
     "nuid": "abc7be15-9628-420a-bfcd-886f94105eca",
     "showTitle": false,
     "title": ""
    }
   },
   "outputs": [
    {
     "name": "stdout",
     "output_type": "stream",
     "text": [
      "+--------------------+\n",
      "|            features|\n",
      "+--------------------+\n",
      "|(24,[1,2,10,12,13...|\n",
      "+--------------------+\n",
      "\n"
     ]
    }
   ],
   "source": [
    "novo_cliente_prep.show()"
   ]
  },
  {
   "cell_type": "code",
   "execution_count": 80,
   "metadata": {
    "application/vnd.databricks.v1+cell": {
     "cellMetadata": {},
     "inputWidgets": {},
     "nuid": "742217f6-f825-4920-b549-df2c6849a0b2",
     "showTitle": false,
     "title": ""
    }
   },
   "outputs": [
    {
     "name": "stdout",
     "output_type": "stream",
     "text": [
      "+--------------------+--------------------+--------------------+----------+\n",
      "|            features|       rawPrediction|         probability|prediction|\n",
      "+--------------------+--------------------+--------------------+----------+\n",
      "|(24,[1,2,10,12,13...|[6.94344004074805...|[0.23144800135826...|       1.0|\n",
      "+--------------------+--------------------+--------------------+----------+\n",
      "\n"
     ]
    }
   ],
   "source": [
    "modelo_rfc_tuning.transform(novo_cliente_prep).show()"
   ]
  },
  {
   "cell_type": "code",
   "execution_count": null,
   "metadata": {
    "application/vnd.databricks.v1+cell": {
     "cellMetadata": {},
     "inputWidgets": {},
     "nuid": "3a4cafee-b021-4f64-a55f-b4e608f83aaf",
     "showTitle": false,
     "title": ""
    }
   },
   "outputs": [],
   "source": []
  }
 ],
 "metadata": {
  "application/vnd.databricks.v1+notebook": {
   "dashboards": [],
   "language": "python",
   "notebookMetadata": {
    "pythonIndentUnit": 4
   },
   "notebookName": "Análise de Churn",
   "notebookOrigID": 1129705719977252,
   "widgets": {}
  },
  "kernelspec": {
   "display_name": "Python 3 (ipykernel)",
   "language": "python",
   "name": "python3"
  },
  "language_info": {
   "codemirror_mode": {
    "name": "ipython",
    "version": 3
   },
   "file_extension": ".py",
   "mimetype": "text/x-python",
   "name": "python",
   "nbconvert_exporter": "python",
   "pygments_lexer": "ipython3",
   "version": "3.9.12"
  }
 },
 "nbformat": 4,
 "nbformat_minor": 1
}
